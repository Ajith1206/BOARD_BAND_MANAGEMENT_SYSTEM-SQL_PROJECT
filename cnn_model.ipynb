{
  "nbformat": 4,
  "nbformat_minor": 0,
  "metadata": {
    "colab": {
      "provenance": [],
      "authorship_tag": "ABX9TyPZfuSHgOXVU8o8Tya5rjZ4",
      "include_colab_link": true
    },
    "kernelspec": {
      "name": "python3",
      "display_name": "Python 3"
    },
    "language_info": {
      "name": "python"
    }
  },
  "cells": [
    {
      "cell_type": "markdown",
      "metadata": {
        "id": "view-in-github",
        "colab_type": "text"
      },
      "source": [
        "<a href=\"https://colab.research.google.com/github/Ajith1206/BOARD_BAND_MANAGEMENT_SYSTEM-SQL_PROJECT/blob/main/cnn_model.ipynb\" target=\"_parent\"><img src=\"https://colab.research.google.com/assets/colab-badge.svg\" alt=\"Open In Colab\"/></a>"
      ]
    },
    {
      "cell_type": "code",
      "execution_count": null,
      "metadata": {
        "id": "cw7LJO9dDRxo"
      },
      "outputs": [],
      "source": [
        "import tensorflow as tf\n",
        "from tensorflow.keras import layers,models,datasets\n",
        "import matplotlib.pyplot as plt"
      ]
    },
    {
      "cell_type": "code",
      "source": [
        "(train_images,train_labels), (test_images, test_labels)=datasets.cifar10.load_data()\n",
        "train_images, test_images=train_images/255.0, test_images/255.0"
      ],
      "metadata": {
        "id": "Oz9lxmTHDnni",
        "colab": {
          "base_uri": "https://localhost:8080/"
        },
        "outputId": "b01d7e08-a9e9-4424-ef40-b634f5db51e0"
      },
      "execution_count": 2,
      "outputs": [
        {
          "output_type": "stream",
          "name": "stdout",
          "text": [
            "Downloading data from https://www.cs.toronto.edu/~kriz/cifar-10-python.tar.gz\n",
            "170498071/170498071 [==============================] - 2s 0us/step\n"
          ]
        }
      ]
    },
    {
      "cell_type": "code",
      "source": [
        "model = models.Sequential()\n",
        "model.add(layers.Conv2D(32,(3,3), activation='relu', input_shape=(32,32,3)))\n",
        "model.add(layers.MaxPooling2D((2,2)))\n",
        "model.add(layers.Conv2D(64,(3,3), activation='relu'))\n",
        "model.add(layers.MaxPooling2D((2,2)))\n",
        "model.add(layers.Conv2D(64,(3,3), activation='relu'))\n",
        "model.add(layers.Flatten())\n",
        "model.add(layers.Dense(64, activation='relu'))\n",
        "model.add(layers.Dense(10, activation='softmax'))\n",
        "\n",
        "model.compile(optimizer='adam', loss='sparse_categorical_crossentropy', metrics=['accuracy'])\n",
        "# sparse_categorical_crossentropy use when input contains more zero values by or in maxtrix format then use else use categorical\n"
      ],
      "metadata": {
        "id": "mHMhIITREiVS"
      },
      "execution_count": 6,
      "outputs": []
    },
    {
      "cell_type": "code",
      "source": [
        "history = model.fit(train_images, train_labels, epochs=10, validation_data=(test_images, test_labels))"
      ],
      "metadata": {
        "colab": {
          "base_uri": "https://localhost:8080/"
        },
        "id": "Rz_68vU1KeWA",
        "outputId": "a5d5465b-55cf-4362-9f7c-7fe1350db9bf"
      },
      "execution_count": 7,
      "outputs": [
        {
          "output_type": "stream",
          "name": "stdout",
          "text": [
            "Epoch 1/10\n",
            "1563/1563 [==============================] - 49s 31ms/step - loss: 1.5340 - accuracy: 0.4400 - val_loss: 1.2761 - val_accuracy: 0.5447\n",
            "Epoch 2/10\n",
            "1563/1563 [==============================] - 46s 29ms/step - loss: 1.1522 - accuracy: 0.5928 - val_loss: 1.1126 - val_accuracy: 0.6064\n",
            "Epoch 3/10\n",
            "1563/1563 [==============================] - 46s 29ms/step - loss: 0.9995 - accuracy: 0.6473 - val_loss: 1.0189 - val_accuracy: 0.6443\n",
            "Epoch 4/10\n",
            "1563/1563 [==============================] - 46s 29ms/step - loss: 0.8977 - accuracy: 0.6865 - val_loss: 1.0204 - val_accuracy: 0.6454\n",
            "Epoch 5/10\n",
            "1563/1563 [==============================] - 46s 29ms/step - loss: 0.8272 - accuracy: 0.7092 - val_loss: 0.9177 - val_accuracy: 0.6832\n",
            "Epoch 6/10\n",
            "1563/1563 [==============================] - 48s 31ms/step - loss: 0.7638 - accuracy: 0.7324 - val_loss: 0.8766 - val_accuracy: 0.6974\n",
            "Epoch 7/10\n",
            "1563/1563 [==============================] - 45s 29ms/step - loss: 0.7183 - accuracy: 0.7488 - val_loss: 0.8627 - val_accuracy: 0.7077\n",
            "Epoch 8/10\n",
            "1563/1563 [==============================] - 45s 29ms/step - loss: 0.6759 - accuracy: 0.7620 - val_loss: 0.8631 - val_accuracy: 0.7061\n",
            "Epoch 9/10\n",
            "1563/1563 [==============================] - 46s 29ms/step - loss: 0.6358 - accuracy: 0.7762 - val_loss: 0.8328 - val_accuracy: 0.7123\n",
            "Epoch 10/10\n",
            "1563/1563 [==============================] - 46s 29ms/step - loss: 0.5968 - accuracy: 0.7899 - val_loss: 0.8426 - val_accuracy: 0.7203\n"
          ]
        }
      ]
    },
    {
      "cell_type": "code",
      "source": [
        "test_loss, test_acc = model.evaluate(test_images, test_labels)\n",
        "print(f\"test acc: {test_acc}\")"
      ],
      "metadata": {
        "colab": {
          "base_uri": "https://localhost:8080/"
        },
        "id": "6FhqDIIhOa06",
        "outputId": "f66850cf-ffaa-4936-b57b-3badae06c0c7"
      },
      "execution_count": 8,
      "outputs": [
        {
          "output_type": "stream",
          "name": "stdout",
          "text": [
            "313/313 [==============================] - 2s 8ms/step - loss: 0.8426 - accuracy: 0.7203\n",
            "test acc: 0.720300018787384\n"
          ]
        }
      ]
    },
    {
      "cell_type": "code",
      "source": [],
      "metadata": {
        "id": "lF2qM2eSOacL"
      },
      "execution_count": null,
      "outputs": []
    }
  ]
}